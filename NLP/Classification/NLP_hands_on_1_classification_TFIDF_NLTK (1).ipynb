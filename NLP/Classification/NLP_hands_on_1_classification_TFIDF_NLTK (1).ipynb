{
  "nbformat": 4,
  "nbformat_minor": 0,
  "metadata": {
    "colab": {
      "name": "NLP_hands_on_1_classification_TFIDF_NLTK.ipynb",
      "provenance": [],
      "collapsed_sections": []
    },
    "kernelspec": {
      "name": "python3",
      "display_name": "Python 3"
    }
  },
  "cells": [
    {
      "cell_type": "markdown",
      "metadata": {
        "id": "jFxK5gk_XREL"
      },
      "source": [
        "## ** Let's illustrate how to train different binary classifiers using NLTK text corpus 'movie_reviews'. We will use python packages 'nltk' and 'sklearn'.**"
      ]
    },
    {
      "cell_type": "code",
      "metadata": {
        "id": "0VXg67zvIi2i",
        "colab": {
          "base_uri": "https://localhost:8080/",
          "height": 68
        },
        "outputId": "bbb773bd-9bc6-43b7-e8e7-ba94d8b7697a"
      },
      "source": [
        "# source: https://www.nltk.org/book/ch06.html\n",
        "# download movie review dataset\n",
        "import nltk\n",
        "nltk.download('movie_reviews')"
      ],
      "execution_count": null,
      "outputs": [
        {
          "output_type": "stream",
          "text": [
            "[nltk_data] Downloading package movie_reviews to /root/nltk_data...\n",
            "[nltk_data]   Package movie_reviews is already up-to-date!\n"
          ],
          "name": "stdout"
        },
        {
          "output_type": "execute_result",
          "data": {
            "text/plain": [
              "True"
            ]
          },
          "metadata": {
            "tags": []
          },
          "execution_count": 1
        }
      ]
    },
    {
      "cell_type": "code",
      "metadata": {
        "id": "OjuePsmNFQez"
      },
      "source": [
        "# import downloaded corpus\n",
        "# prepare corpus (already tokenized)\n",
        "from nltk.corpus import movie_reviews\n",
        "import random"
      ],
      "execution_count": null,
      "outputs": []
    },
    {
      "cell_type": "markdown",
      "metadata": {
        "id": "EmxpXzPjdQqQ"
      },
      "source": [
        "# Data Processing in Boolen format\n",
        "\n",
        "*   List item\n",
        "*   List item\n",
        "\n"
      ]
    },
    {
      "cell_type": "code",
      "metadata": {
        "id": "r25RBcSPakGf",
        "colab": {
          "base_uri": "https://localhost:8080/",
          "height": 51
        },
        "outputId": "1658e091-3fa1-453a-aa68-e72023cb6318"
      },
      "source": [
        "documents = [(list(movie_reviews.words(fileid)), category) \\\n",
        "             for category in movie_reviews.categories() \\\n",
        "             for fileid in movie_reviews.fileids(category)]\n",
        "# print out the size of documents\n",
        "print(len(documents))\n",
        "\n",
        "# shuffle documents, reorganize the order of documents\n",
        "random.shuffle(documents)\n",
        "\n",
        "# split documents into training and test data\n",
        "doc_train, doc_test = documents[100:], documents[:100]\n",
        "# print out the size of training and test documents\n",
        "print(len(doc_train), len(doc_test))"
      ],
      "execution_count": null,
      "outputs": [
        {
          "output_type": "stream",
          "text": [
            "2000\n",
            "1900 100\n"
          ],
          "name": "stdout"
        }
      ]
    },
    {
      "cell_type": "code",
      "metadata": {
        "id": "r38gKDofekHB",
        "colab": {
          "base_uri": "https://localhost:8080/",
          "height": 88
        },
        "outputId": "46100dcb-1dd2-4222-f48c-6f10fc32d2b8"
      },
      "source": [
        "# display category set\n",
        "categories = set([c for d, c in doc_train])\n",
        "print(categories)\n",
        "\n",
        "# display example movie review and its category\n",
        "print(doc_train[0][0])\n",
        "print(doc_train[0][1])"
      ],
      "execution_count": null,
      "outputs": [
        {
          "output_type": "stream",
          "text": [
            "{'neg', 'pos'}\n",
            "['\"', 'tarzan', 'and', 'the', 'lost', 'city', '\"', 'is', 'one', 'of', 'the', 'most', 'anemic', 'movies', 'to', 'come', 'out', 'in', 'quite', 'a', 'while', '.', 'not', 'only', 'it', 'is', 'poorly', 'written', ',', 'badly', 'acted', ',', 'and', 'generally', 'incompetent', 'in', 'all', 'cinematic', 'areas', ',', 'it', 'is', 'thoroughly', 'uninspired', 'and', 'insipid', '.', 'unfortunately', ',', 'it', \"'\", 's', 'not', 'bad', 'in', 'the', 'way', 'great', ',', 'colossal', 'misfires', 'like', '\"', 'heaven', \"'\", 's', 'gate', '\"', '(', '1980', ')', 'or', '\"', 'ishtar', '\"', '(', '1987', ')', 'were', 'bad', '.', 'instead', ',', 'it', 'literally', 'drips', 'off', 'the', 'screen', 'like', 'a', 'movie', 'nobody', 'wanted', 'to', 'be', 'associated', 'with', ',', 'which', 'begs', 'the', 'question', 'of', 'why', 'it', 'was', 'made', 'in', 'the', 'first', 'place', '.', 'with', 'all', 'the', 'good', 'scripts', 'lying', 'around', 'hollywood', 'un', '-', 'produced', ',', 'how', 'does', 'needless', 'drek', 'like', 'this', 'make', 'its', 'way', 'to', 'the', 'big', 'screen', '?', 'of', 'course', ',', 'tarzan', 'is', 'one', 'of', 'the', 'most', 'filmed', 'characters', 'in', 'all', 'of', 'motion', 'picture', 'history', '-', 'he', 'has', 'appeared', 'in', 'over', 'forty', 'films', ',', 'which', 'have', 'ranged', 'from', 'the', 'very', 'good', '(', '1984', \"'\", 's', '\"', 'greystoke', ':', 'the', 'legend', 'of', 'tarzan', ',', 'lord', 'of', 'the', 'apes', '\"', ')', 'down', 'to', 'the', 'really', 'bad', '(', '1981', \"'\", 's', '\"', 'tarzan', ',', 'the', 'ape', 'man', '\"', 'with', 'bo', 'derek', ')', '.', 'most', 'of', 'these', 'films', 'were', 'just', 'cheapie', 'b', '-', 'movies', 'made', 'in', 'the', 'thirties', 'and', 'forties', ',', 'starring', 'ex', '-', 'olympic', 'athletes', 'and', 'a', 'lot', 'of', 'cutsie', 'chimps', '.', 'therefore', ',', 'if', 'another', 'tarzan', 'movie', 'is', 'to', 'be', 'made', ',', 'one', 'might', 'assume', 'that', 'it', 'would', 'have', 'something', 'new', 'to', 'offer', '-', 'a', 'different', 'angle', ',', 'an', 'original', 'storyline', ',', 'anything', 'to', 'set', 'it', 'apart', 'from', 'all', 'the', 'others', '.', '\"', 'greystoke', '\"', 'added', 'a', 'never', '-', 'before', '-', 'seen', 'level', 'of', 'realism', 'to', 'the', 'pulpy', 'tale', ',', 'and', 'even', '\"', 'tarzan', ',', 'the', 'ape', 'man', '\"', 'at', 'least', 'had', 'the', 'mis', '-', 'guided', 'audacity', 'to', 'sexualize', 'the', 'story', 'as', 'a', 'vehicle', 'for', 'bo', 'derek', \"'\", 's', 'bare', 'breasts', '.', '\"', 'tarzan', 'and', 'the', 'lost', 'city', ',', '\"', 'on', 'the', 'other', 'hand', ',', 'has', 'absolutely', 'nothing', 'to', 'offer', 'but', 'a', 'bunch', 'of', 'recycled', 'storylines', 'and', 'bad', 'dialogue', '.', 'the', 'script', ',', 'by', 'bayard', 'johnson', 'and', 'j', '.', 'anderson', 'black', 'is', 'about', 'as', 'formulaic', 'and', 'generic', 'as', 'they', 'come', '.', 'comic', 'books', 'have', 'better', 'plots', 'than', 'this', '.', 'the', 'movie', 'is', 'so', 'bad', ',', 'in', 'fact', ',', 'that', 'it', 'retains', 'that', 'ridiculous', 'tarzan', 'call', 'that', 'was', 'so', 'tirelessly', 'mocked', 'in', 'last', 'summer', \"'\", 's', 'comedy', '\"', 'george', 'of', 'the', 'jungle', '.', '\"', 'didn', \"'\", 't', 'the', 'producers', 'think', 'to', 'leave', 'that', 'back', 'in', 'the', 'old', 'weissmuller', 'pictures', 'where', 'it', 'belongs', '?', 'the', 'story', 'starts', 'with', 'the', 'legend', 'of', 'tarzan', 'already', 'firmly', 'established', ':', 'a', 'quick', 'opening', 'narration', 'tells', 'of', 'tarzan', '(', 'casper', 'van', 'dien', ')', 'being', 'found', 'in', 'the', 'jungle', 'after', 'having', 'been', 'raised', 'by', 'apes', ',', 'and', 'his', 'return', 'to', 'england', 'where', 'he', 'assumes', 'his', 'greystoke', 'heritage', '.', 'when', 'the', 'movie', 'starts', 'in', '1913', ',', 'he', 'is', 'a', 'civilized', 'english', 'gentleman', '(', 'without', 'an', 'english', 'accent', ')', ',', 'and', 'he', 'is', 'to', 'marry', 'jane', '(', 'jane', 'march', ')', 'in', 'less', 'than', 'a', 'week', '.', 'however', ',', 'when', 'a', 'wicked', 'archeologist', '/', 'grave', '-', 'robber', 'named', 'nigel', 'ravens', '(', 'steve', 'waddington', ')', 'begins', 'hunting', 'for', 'the', 'fabled', 'lost', 'city', 'of', 'opar', ',', 'one', 'of', 'africa', \"'\", 's', 'last', 'great', 'secrets', ',', 'the', 'witch', 'doctor', 'of', 'an', 'ancient', 'african', 'tribe', 'summons', 'tarzan', 'back', 'to', 'the', 'jungle', '.', 'at', 'first', ',', 'jane', 'refuses', 'to', 'go', ',', 'pouting', 'about', 'how', 'it', 'will', 'interfere', 'with', 'their', 'wedding', ';', 'but', 'after', 'tarzan', 'leaves', 'she', 'changes', 'her', 'mind', 'and', 'tracks', 'him', 'down', ',', 'therefore', 'assuring', 'lots', 'of', 'lame', 'smooch', 'scenes', 'between', 'her', 'and', 'her', 'ape', '-', 'man', '.', 'once', 'the', 'film', 'gets', 'going', '(', 'in', 'its', 'own', 'sluggish', 'way', ')', ',', 'it', 'delves', 'into', 'a', 'series', 'of', 'jungle', 'adventures', ',', 'as', 'tarzan', ',', 'jane', ',', 'and', 'the', 'natives', 'attempt', 'the', 'thwart', 'ravens', 'and', 'his', 'crew', 'from', 'discovering', 'the', 'city', '.', 'most', 'of', 'the', 'so', '-', 'called', 'adventures', 'are', 'cheesy', ',', 'predictable', ',', 'and', 'unexciting', ',', 'with', 'no', 'pace', ',', 'tension', ',', 'or', 'action', 'to', 'speak', 'of', '.', 'there', 'are', 'sequences', 'stolen', 'from', 'innumerable', 'recent', 'adventure', 'movies', ',', 'ranging', 'from', '\"', 'raiders', 'of', 'the', 'lost', 'ark', '\"', '(', '1981', ')', 'to', '\"', 'the', 'goonies', '\"', '(', '1985', ')', '.', 'when', 'the', 'movie', 'is', 'running', 'short', 'on', 'action', ',', 'it', 'includes', 'a', 'few', 'greenpeace', '-', 'friendly', 'scenes', 'of', 'tarzan', 'freeing', 'caged', 'animals', ',', 'releasing', 'a', 'baby', 'elephant', 'from', 'a', 'trap', ',', 'and', 'throwing', 'ivory', 'tusks', 'into', 'the', 'river', '.', 'the', 'movie', 'is', 'also', 'lacking', 'even', 'a', 'remote', 'hint', 'of', 'reality', '.', 'for', 'instance', ',', 'when', 'tarzan', '-', 'who', 'was', 'raised', 'in', 'the', 'jungle', '-', 'is', 'bit', 'by', 'a', 'cobra', ',', 'he', 'doesn', \"'\", 't', 'even', 'attempt', 'to', 'suck', 'the', 'venom', 'out', 'like', 'any', 'semi', '-', 'experienced', 'weekend', 'backpacker', 'would', 'do', '.', 'instead', ',', 'he', 'ties', 'a', 'tourniquet', 'around', 'his', 'arm', 'and', 'stumbles', 'off', 'into', 'the', 'jungle', 'with', 'no', 'plan', 'for', 'survival', '.', 'of', 'course', ',', 'one', 'can', \"'\", 't', 'help', 'but', 'notice', 'how', 'fundamentally', 'misleading', 'the', 'title', 'is', '.', 'not', 'to', 'ruin', 'the', 'ending', 'or', 'anything', ',', 'but', 'there', 'is', 'no', 'lost', 'city', '.', 'there', 'is', ',', 'however', ',', 'a', 'lost', 'pyramid', ',', 'which', 'i', 'suppose', 'is', 'all', 'the', 'resource', '-', 'strapped', 'fx', 'department', 'could', 'come', 'up', 'with', '(', 'the', 'special', 'effects', 'are', 'not', 'worthy', 'of', 'a', 'made', '-', 'for', '-', 'tv', 'movie', ')', '.', 'which', 'also', 'brings', 'up', 'the', 'question', 'of', 'why', 'the', 'treasure', 'hunters', 'had', 'to', 'slog', 'through', 'numerous', 'underground', 'caverns', 'to', 'get', 'to', 'the', 'lost', 'pyramid', ',', 'when', 'it', \"'\", 's', 'sitting', 'right', 'out', 'in', 'the', 'middle', 'of', 'an', 'open', 'field', '?', 'strictly', 'speaking', ',', '\"', 'tarzan', 'and', 'the', 'lost', 'city', '\"', 'isn', \"'\", 't', 'even', 'bad', 'enough', 'to', 'have', 'camp', 'quality', ',', 'although', 'casper', 'van', 'dien', \"'\", 's', 'laughably', 'stiff', 'performance', 'comes', 'real', 'close', '.', 'this', 'movie', 'proves', 'what', '\"', 'starship', 'troopers', '\"', 'only', 'hinted', 'at', ':', 'he', 'cannot', 'act', ',', 'but', 'he', 'sure', 'looks', 'well', '-', 'groomed', ',', 'even', 'in', 'the', 'deepest', 'heart', 'of', 'the', 'african', 'jungle', '.', 'van', 'dien', 'is', 'much', 'too', 'much', 'of', 'a', 'pretty', '-', 'boy', 'to', 'be', 'an', 'effective', 'tarzan', ';', 'he', \"'\", 's', 'a', 'calvin', 'klein', 'model', 'in', 'a', 'loin', 'cloth', '.', 'i', 'also', 'wondered', 'what', 'the', 'make', '-', 'up', 'department', 'was', 'thinking', 'when', 'it', 'outfitted', 'him', 'with', 'that', 'awful', 'circa', '-', '1983', 'steve', 'perry', 'haircut', '.', 'waddington', 'makes', 'a', 'decent', 'villain', ',', 'although', 'he', \"'\", 's', 'like', 'a', 'charmless', 'version', 'of', 'belloq', 'from', '\"', 'raiders', 'of', 'the', 'lost', 'ark', '.', '\"', 'as', 'jane', ',', 'the', 'ex', '-', 'model', 'jane', 'march', 'has', 'little', 'to', 'do', 'but', 'smile', 'and', 'look', 'pretty', 'next', 'to', 'tarzan', '.', 'she', 'does', 'fire', 'off', 'a', 'gun', 'at', 'the', 'evil', 'treasure', 'hunters', 'a', 'time', 'or', 'two', ',', 'but', 'whenever', 'a', 'snake', 'comes', 'into', 'the', 'picture', ',', 'she', 'is', 'reduced', 'to', 'a', 'hysterical', 'mess', '.', 'however', ',', 'amidst', 'all', 'this', 'complaining', ',', 'i', 'do', 'have', 'one', 'piece', 'of', 'good', 'news', '.', '\"', 'tarzan', 'and', 'the', 'lost', 'city', '\"', 'is', 'so', 'lacking', 'in', 'ideas', 'both', 'new', 'and', 'old', ',', 'that', 'it', 'is', 'unable', 'to', 'fill', 'even', 'an', 'hour', 'and', 'a', 'half', 'of', 'celluloid', '.', 'so', ',', 'we', 'can', 'say', 'this', 'much', 'for', 'it', ':', 'at', 'least', 'it', 'had', 'the', 'decency', 'to', 'be', 'short', '.']\n",
            "neg\n"
          ],
          "name": "stdout"
        }
      ]
    },
    {
      "cell_type": "code",
      "metadata": {
        "id": "-FNnHkM3Opie",
        "colab": {
          "base_uri": "https://localhost:8080/",
          "height": 374
        },
        "outputId": "7c9a574c-1d07-47a7-e54b-454187cdfa90"
      },
      "source": [
        "# determine vocabulary\n",
        "# get the word frequency distribution of training data\n",
        "all_words = nltk.FreqDist(w.lower() for d, c in doc_train for w in d)\n",
        "# get the top-2000 most common words\n",
        "word_features = [word for word, num in all_words.most_common(2000)]\n",
        "# display first 20 words in word_features\n",
        "print(word_features[:20])\n",
        "\n",
        "# display the size of all_words\n",
        "all_word_num = len(all_words)\n",
        "print(all_word_num)\n",
        "# display top-k most common words, k in [0, 50) is generated randomly\n",
        "k = random.randint(0, 50)\n",
        "print(k)\n",
        "all_words.pprint(k)\n",
        "# plot the word frequency distribution of top-k most common words\n",
        "all_words.plot(k, title='word distribution')\n",
        "\n",
        "# define a function, return a dict, the type of key is str and value is Boolean\n",
        "def document_features(document):\n",
        "  document_words = set(document)\n",
        "  features = {}\n",
        "  for word in word_features:\n",
        "    features[word] = (word in document_words)\n",
        "  return features"
      ],
      "execution_count": null,
      "outputs": [
        {
          "output_type": "stream",
          "text": [
            "[',', 'the', '.', 'a', 'and', 'of', 'to', \"'\", 'is', 'in', 's', '\"', 'it', 'that', '-', ')', '(', 'as', 'with', 'for']\n",
            "38982\n",
            "17\n",
            "FreqDist({',': 73576, 'the': 72329, '.': 62373, 'a': 36146, 'and': 33790, 'of': 32240, 'to': 30203, \"'\": 28942, 'is': 23851, 'in': 20660, 's': 17543, '\"': 16722, 'it': 15239, 'that': 15133, '-': 14744, ')': 11206, '(': 11098, ...})\n"
          ],
          "name": "stdout"
        },
        {
          "output_type": "display_data",
          "data": {
            "image/png": "[encoded data removed]",
            "text/plain": [
              "<Figure size 432x288 with 1 Axes>"
            ]
          },
          "metadata": {
            "tags": [],
            "needs_background": "light"
          }
        }
      ]
    },
    {
      "cell_type": "code",
      "metadata": {
        "id": "a8oQPlQGuZbT"
      },
      "source": [
        "# convert documents into Boolean vectors\n",
        "train_set = [(document_features(d), c) for (d,c) in doc_train]\n",
        "test_set = [(document_features(d), c) for (d,c) in doc_test]\n"
      ],
      "execution_count": null,
      "outputs": []
    },
    {
      "cell_type": "code",
      "metadata": {
        "id": "0mkPSg3IfI9g",
        "colab": {
          "base_uri": "https://localhost:8080/",
          "height": 54
        },
        "outputId": "54b68cee-ee48-4c3b-dc12-58d4721e23ad"
      },
      "source": [
        "# print example features\n",
        "print(train_set[0][0])"
      ],
      "execution_count": null,
      "outputs": [
        {
          "output_type": "stream",
          "text": [
            "{',': True, 'the': True, '.': True, 'a': True, 'and': True, 'of': True, 'to': True, \"'\": True, 'is': True, 'in': True, 's': True, '\"': True, 'it': True, 'that': True, '-': True, ')': True, '(': True, 'as': True, 'with': True, 'for': True, 'his': True, 'this': True, 'film': True, 'he': True, 'i': True, 'but': True, 'on': True, 'are': True, 't': True, 'by': True, 'be': True, 'one': True, 'movie': True, 'an': True, 'who': True, 'not': True, 'you': False, 'from': True, 'at': True, 'was': True, 'have': True, 'they': True, 'has': True, 'her': True, 'all': True, 'there': True, '?': True, 'like': True, 'so': True, 'out': True, 'about': True, 'up': True, 'more': False, 'what': True, 'when': True, 'or': True, 'which': True, 'their': True, 'she': True, ':': True, 'some': False, 'just': True, 'can': True, 'if': True, 'we': True, 'him': True, 'into': True, 'even': True, 'only': True, 'no': True, 'than': True, 'good': True, 'time': True, 'most': True, 'its': True, 'will': True, 'story': True, 'would': True, 'much': True, 'been': True, 'character': False, 'also': True, 'other': True, 'get': True, 'do': True, 'two': True, 'well': True, ';': True, 'very': True, 'them': False, 'characters': True, '--': False, 'first': True, 'after': True, 'see': False, '!': False, 'way': True, 'because': False, 'make': True, 'life': False, 'any': True, 'too': True, 'off': True, 'does': True, 'really': True, 'while': True, 'had': True, 'films': True, 'little': True, 'how': True, 'plot': False, 'where': True, 'people': False, 'over': True, 'could': True, 'scene': False, 'man': True, 'then': False, 'me': False, 'my': False, 'bad': True, 'never': True, 'best': False, 'being': True, 'these': True, 'don': False, 'new': True, 'doesn': True, 'scenes': True, 'many': False, 'movies': True, 'were': True, 'director': False, 'know': False, 'such': False, 'here': False, 'through': True, 'great': True, 'action': True, 're': False, 'another': True, 'go': True, 'love': False, 'made': True, 'us': False, 'big': True, 'something': True, 'end': False, 'still': False, '*': False, 'back': True, 'world': False, 'seems': False, 'those': False, 'work': False, 'makes': True, 'however': True, 'now': False, 'before': True, 'few': True, '/': True, 'between': True, 'every': False, 'down': True, 'though': False, 'audience': False, 'seen': True, 'real': True, 'better': True, 'enough': True, 'both': True, 'around': True, 'take': False, 'going': True, 'performance': True, 'year': False, 'should': False, 'why': True, 'role': False, 'gets': True, 'old': True, 'may': False, 'isn': True, 'think': True, 'your': False, 'same': False, 'things': False, 'years': False, 'last': True, 've': False, 'funny': False, 'look': True, 'comedy': True, 'long': False, 'actually': False, 'own': True, 'almost': False, 'thing': False, 'john': False, 'nothing': True, 'fact': True, 'although': True, 'right': True, 'say': True, 'played': False, 'find': False, 'ever': False, 'script': True, 'since': False, 'come': True, 'star': False, 'did': False, 'cast': False, 'plays': False, 'show': False, 'young': False, 'm': False, 'comes': True, 'actors': False, 'screen': True, 'part': False, 'three': False, 'again': False, 'acting': False, 'without': True, 'each': False, 'day': False, 'point': False, 'original': True, 'lot': True, 'least': True, 'takes': False, 'himself': False, 'guy': False, 'quite': True, 'away': False, 'effects': True, 'family': False, 'goes': False, 'minutes': False, 'during': False, 'might': True, 'interesting': False, 'course': True, 'far': False, 'must': False, 'high': False, 'once': True, 'rather': False, 'set': True, 'place': True, 'our': False, 'yet': False, 'anything': True, 'making': False, 'watch': False, 'd': False, 'fun': False, 'hard': False, 'wife': False, 'always': False, 'didn': True, 'special': True, 'seem': False, 'll': False, 'hollywood': True, 'trying': False, 'times': False, 'series': True, 'sense': False, 'bit': True, 'instead': True, 'american': False, 'give': False, 'home': False, 'want': False, 'picture': True, 'kind': False, 'help': True, 'having': True, 'job': False, 'woman': False, 'actor': False, 'men': False, 'along': False, 'probably': False, 'half': True, 'pretty': True, 'everything': False, 'sure': True, 'becomes': False, 'together': False, 'money': False, 'black': True, 'dialogue': True, 'looking': False, 'become': False, 'whole': False, 'father': False, 'gives': False, 'watching': False, 'given': False, 'feel': False, 'less': True, 'everyone': False, 'got': False, 'wants': False, 'death': False, '`': False, 'sex': False, 'done': False, 'music': False, 'horror': False, 'city': True, 'play': False, 'next': True, 'perhaps': False, 'especially': False, '10': False, 'mind': True, 'girl': False, 'looks': True, 'moments': False, 'line': False, 'different': True, 'reason': False, 'completely': False, 'rest': False, 'whose': False, 'human': False, 'let': False, 'small': False, '2': False, 'simply': False, 'mother': False, 'ending': True, 'performances': False, 'james': False, 'night': False, 'couple': False, 'put': False, 'evil': True, 'dead': False, 'until': False, 'lost': True, 'michael': False, 'anyone': False, 'shows': False, 'friend': False, 'true': False, 'itself': False, 'thought': False, 'several': False, 'case': False, 'school': False, 'written': True, 'someone': False, 'left': False, 'entire': False, 'turns': False, 'soon': False, 'humor': False, 'main': False, 'found': True, 'town': False, 'getting': False, 'second': False, 'either': False, 'called': True, 'friends': False, 'based': False, 'use': False, 'begins': True, 'head': False, 'problem': False, 'alien': False, 'comic': True, 'david': False, 'stars': False, 'idea': False, 'later': False, 'else': False, 'final': False, 'tv': True, 'group': False, 'house': False, 'unfortunately': True, 'name': False, 'top': False, 'often': False, 'wrong': False, 'used': False, 'against': False, 'full': False, 'hand': True, 'behind': False, 'certainly': False, 'tries': False, 'boy': True, 'relationship': False, 'keep': False, 'turn': False, 'hour': True, 'sequence': False, 'war': False, 'believe': False, 'run': False, 'works': False, 'named': True, 'under': False, 'playing': False, 'live': False, 'face': False, 'said': False, 'person': False, 'doing': False, 'finally': False, 'style': False, 'son': False, 'shot': False, 'despite': False, 'nice': False, 'tell': False, 'finds': False, 'maybe': False, 'side': False, 'able': False, 'book': False, 'including': False, 'perfect': False, 'past': False, '=': False, 'seeing': False, 'game': False, 'summer': True, 'children': False, 'directed': False, 'mr': False, 'running': True, 'joe': False, 'kevin': False, 'camera': False, 'fight': False, 'won': False, 'car': False, 'days': False, 'moment': False, 'need': False, 'matter': False, 'supposed': False, 'kids': False, 'earth': False, 'lines': False, 'lives': False, 'worth': False, 'video': False, 'daughter': False, 'self': False, 'start': False, 'white': False, 'dark': False, 'entertaining': False, 'starts': True, 'short': True, 'writer': False, 'worst': False, 'nearly': False, 'jack': False, 'opening': True, 'production': False, 'care': False, 'upon': False, 'try': False, 'violence': False, 'drama': False, 'beautiful': False, 'killer': False, 'team': False, 'review': False, 'sequences': True, 'problems': False, 'screenplay': False, 'throughout': False, 'known': False, 'heart': True, 'already': True, 'exactly': False, 'act': True, 'example': False, 'others': True, 'early': False, 'robert': False, 'disney': False, 'title': True, 'close': True, 'obvious': False, 'five': False, 'roles': False, 'fine': False, 'major': False, '&': False, 'wasn': False, 'version': True, 'hit': False, 'simple': False, 'sometimes': False, 'order': False, 'eyes': False, 'themselves': False, 'four': False, 'kill': False, 'classic': False, 'deep': False, 'direction': False, 'jackie': False, 'truly': False, 'tom': False, 'question': True, 'supporting': False, 'coming': False, 'women': False, 'child': False, 'knows': False, 'jokes': False, 'computer': False, 'genre': False, 'boring': False, 'brother': False, 'lee': False, 'voice': False, 'space': False, 'stop': False, 'sort': False, '1': False, 'ends': False, 'thriller': False, 'strong': False, 'body': False, 'room': False, 'o': False, 'level': True, 'save': False, 'guys': False, 'scream': False, 'happens': False, 'husband': False, 'york': False, 'ship': False, 'says': False, 'beginning': False, 'murder': False, 'yes': False, 'note': False, 'attempt': True, 'oscar': False, 'king': False, 'tells': True, 'aren': False, 'hero': False, 'romantic': False, 'dog': False, 'quickly': False, 'possible': False, 'peter': False, 'career': False, 'stupid': False, 'god': False, 'hope': False, 'wonder': False, 'novel': False, 'extremely': False, 'manages': False, 'saw': False, 'mostly': False, 'fans': False, 'piece': True, 'hell': False, 'lead': False, 'de': False, 'mean': False, 'police': False, 'attention': False, 'laugh': False, 'smith': False, 'taking': False, 'eventually': False, 'sound': False, 'co': False, 'planet': False, 'worse': False, 'involved': False, 'sets': False, 'wild': False, 'paul': False, 'future': False, 'lack': False, 'hours': False, 'late': False, 'appears': False, 'particularly': False, 'falls': False, 'material': False, 'fiction': False, 'emotional': False, 'dr': False, 'single': False, 'van': True, 'elements': False, 'experience': False, 'result': False, 'bring': False, 'fall': False, 'theater': False, 'involving': False, 'feeling': False, 'living': False, 'alone': False, 'none': False, 'among': False, 'feature': False, 'power': False, 'leads': False, 'within': False, 'laughs': False, 'easy': False, 'talent': False, 'word': False, 'guess': False, 'number': False, 'george': True, 'chris': False, 'taken': False, 'chance': False, 'enjoy': False, 'meet': False, 'television': False, 'premise': False, 'interest': False, '3': False, 'happen': False, 'obviously': False, 'science': False, 'aliens': False, 'girls': False, 'usually': False, 'tale': True, 'happy': False, 'talk': False, 'forced': False, 'battle': False, 'success': False, 'girlfriend': False, 'middle': True, 'poor': False, 'form': False, 'killed': False, 'art': False, 'attempts': False, 'meets': False, 'leave': True, 'crew': True, 'oh': False, 'whether': False, 'needs': False, 'wonderful': False, 'expect': False, 'history': True, 'call': True, 'surprise': False, 'feels': False, 'america': False, 'turned': False, 'deal': False, 'important': False, 'parts': False, 'viewer': False, 'easily': False, 'across': False, 'score': False, 'except': False, 'words': False, 'parents': False, 'change': False, 'features': False, 'released': False, 'william': False, 'giving': False, 'light': False, 'release': False, 'basically': False, 'serious': False, 'impressive': False, 'robin': False, 'working': False, 'recent': True, 'die': False, 'reality': True, 'cool': False, 'ryan': False, 'suspense': False, 'mystery': False, 'office': False, 'crime': False, 'told': False, 'mission': False, 'sequel': False, 'blood': False, 'ben': False, 'somehow': False, '$': False, 'jones': False, 'seemed': False, 'difficult': False, 'ago': False, 'williams': False, 'local': False, 'entertainment': False, 'stuff': False, 'slow': False, 'effective': True, 'type': False, 'hilarious': False, 'cut': False, 'credits': False, 'due': False, 'cop': False, 'wouldn': False, 'writing': False, 'rock': False, 'fast': False, 'am': False, 'events': False, 'near': False, 'talking': False, 'popular': False, 'straight': False, 'batman': False, 'apparently': False, 'certain': False, 'brings': True, 'quality': True, 'using': False, 'sexual': False, 'kid': False, 'flick': False, 'whom': False, '4': False, 'remember': False, 'business': False, 'dramatic': False, 'return': True, 'gone': False, 'general': False, 'present': False, 'went': False, 'romance': False, 'age': False, 'filmmakers': False, 'runs': False, 'complete': False, 'personal': False, 'ways': False, 'uses': False, 'minute': False, 'surprisingly': False, 'anyway': False, 'red': False, 'presence': False, 'couldn': False, 'decides': False, 'harry': False, 'similar': False, 'begin': False, 'amazing': False, 'water': False, 'figure': False, 'brothers': False, 'secret': False, 'bob': False, 'party': False, 'powerful': False, 'eye': False, 'familiar': False, 'somewhat': False, 'annoying': False, 'previous': False, 'motion': True, 'rich': False, 'came': False, 'strange': False, 'beyond': False, 'read': False, 'visual': False, 'law': False, 'third': False, 'excellent': False, 'smart': False, 'absolutely': True, 'intelligent': False, 'million': False, 'prison': False, 'clear': False, 'towards': False, 'wars': False, 'filled': False, 'follow': False, 'shots': False, 'budget': False, 'moving': False, 'former': False, 'successful': False, 'company': False, 'actress': False, 'jim': False, 'r': False, 'leaving': False, 'murphy': False, 'leaves': True, 'means': False, 'large': False, 'nature': False, 'following': False, 'situation': False, 'villain': True, 'martin': False, 'definitely': False, 'animated': False, 'predictable': True, 'nor': False, 'project': False, 'solid': False, 'bill': False, 'break': False, 'latest': False, 'b': True, 'create': False, 'drug': False, 'brilliant': False, 'questions': False, 'ones': False, 'felt': False, 'add': False, 'stories': False, 'bunch': True, 'move': False, 'clever': False, 'starring': True, 'saying': False, 'cinema': False, 'doubt': False, 'country': False, 'thinking': True, 'usual': False, 'opens': False, 'herself': False, 'force': False, 'plan': True, 'created': False, 'seriously': False, 'mark': False, 'low': False, 'sweet': False, 'learn': False, 'scary': False, 'perfectly': False, 'message': False, 'potential': False, 'box': False, 'effect': False, 'above': False, 'agent': False, 'huge': False, 'frank': False, 'unlike': False, 'open': True, 'myself': False, 'pay': False, 'subject': False, 'happened': False, 'class': False, 'sam': False, 'bruce': False, 'heard': False, 'e': False, 'understand': False, 'realize': False, 'scott': False, 'points': False, 'private': False, 'follows': False, 'trek': False, 'richard': False, 'chase': False, 'wedding': True, 'decent': True, 'dream': False, 'viewers': False, 'cameron': False, 'enjoyable': False, 'appear': False, 'talented': False, 'took': False, 'impossible': False, 'cold': False, 'view': False, 'likely': False, 'fails': False, 'overall': False, 'married': False, 'stay': False, 'brought': False, '+': False, 'studio': False, 'non': False, 'west': False, 'carter': False, 'giant': False, 'gun': True, 'political': False, 'ten': False, 'wanted': True, 'ex': True, 'mess': True, 'exciting': False, 'bond': False, 'musical': False, 'allen': False, 'modern': False, 'haven': False, 'neither': False, 'audiences': False, 'keeps': False, 'escape': False, 'ultimately': False, 'stand': False, 'society': False, 'spend': False, 'free': False, 'fan': False, 'tim': False, 'english': True, 'dumb': False, 'trouble': False, 'park': False, 'immediately': False, 'u': False, 'otherwise': False, 'stone': False, 'particular': False, 'inside': False, 'slightly': False, 'eddie': False, 'chan': False, 'element': False, 'various': False, 'merely': False, '5': False, 'state': False, 'steve': True, 'truth': False, 'members': False, 'liked': False, 'air': False, 'favorite': False, 'key': False, 'max': False, 'truman': False, 'six': False, 'teen': False, 'showing': False, 'soundtrack': False, 'effort': False, 'silly': False, 'cannot': True, 'purpose': False, 'focus': False, 'memorable': False, 'biggest': False, 'rating': False, 'totally': False, 'joke': False, 'rated': False, 'hands': False, 'animation': False, 'government': False, 'simon': False, 'credit': False, 'today': False, 'heavy': False, 'fire': True, 'ask': False, 'constantly': False, 'situations': False, 'british': False, 'l': False, 'earlier': False, 'fi': False, 'tension': True, 'ideas': True, 'nick': False, 'waste': False, 'master': False, 'control': False, 'sci': False, 'sit': False, 'background': False, 'street': False, 'list': False, 'steven': False, 'moves': False, 'gave': False, 'fear': False, 'typical': False, 'aspect': False, 'atmosphere': False, 'wait': False, 'violent': False, 'seven': False, 'depth': False, '8': False, 'sister': False, 'setting': False, 'actual': False, 'godzilla': False, 'army': False, 'disaster': False, 'terrible': False, 'screenwriter': False, 'offers': False, 'cinematography': False, 'female': False, 'beauty': False, 'tone': False, 'woody': False, 'humans': False, 'mike': False, 'fairly': False, 'double': False, 'spent': False, 'impact': False, 'grace': False, 'willis': False, 'expected': False, 'thinks': False, 'convincing': False, 'suddenly': False, 'mary': False, 'dull': False, 'sees': False, 'recently': False, 'indeed': False, 'ability': False, 'telling': False, 'subtle': False, 'complex': False, 'wrote': False, 'x': False, 'ridiculous': True, 'quick': True, 'awful': True, 'killing': False, 'highly': False, 'song': False, 'lots': True, 'club': False, 'mars': False, 'further': False, 'theme': False, 'brief': False, 'ii': False, 'cheap': False, 'realistic': False, 'plenty': False, 'sight': False, 'approach': False, 'college': False, 'baby': True, 'greatest': False, 'front': False, 'chemistry': False, 'possibly': False, 'charm': False, 'meanwhile': False, 'flat': False, 'wish': False, 'hold': False, 'amount': False, 'hate': False, 'queen': False, 'clearly': False, 'cinematic': True, 'entirely': False, 'island': False, 'french': False, 'outside': False, 'common': False, 'shown': False, 'dreams': False, 'minor': False, 'whatever': False, 'carry': False, 'race': False, 'reasons': False, 'cute': False, 'boys': False, 'member': False, 'puts': False, 'imagine': False, 'trailer': False, 'amusing': False, 'miss': False, 'delivers': False, 'ride': False, 'somewhere': False, 'famous': False, 'tarzan': True, 'produced': True, 'proves': True, 'slowly': False, 'choice': False, 'decide': False, 'energy': False, 'critics': False, 'development': False, 'longer': False, 'language': False, 'asks': False, 'hot': False, 'sounds': False, 'provide': False, 'casting': False, 'jackson': False, 'hear': False, 'caught': False, 'jerry': False, 'etc': False, 'believable': False, 'basic': False, 'vampire': False, 'road': False, 'knew': False, 'intelligence': False, 'leader': False, 'detective': False, 'leading': False, 'considering': False, 'remains': False, 'alive': False, 'seemingly': False, 'okay': False, 'incredibly': False, 'lies': False, 'j': True, 'doctor': True, 'blue': False, 'appearance': False, 'provides': False, 'opportunity': False, 'conclusion': False, 'yourself': False, 'period': False, '1998': False, 'tough': False, 'climax': False, 'julia': False, 'boss': False, 'hong': False, 'sean': False, 'event': False, 'thin': False, 'average': False, 'billy': False, 'partner': False, 'details': False, 'directing': False, 'cage': False, 'president': False, 'monster': False, 'thanks': False, 'trip': False, 'wasted': False, 'central': False, 'writers': False, 'led': False, 'ground': False, 'band': False, 'consider': False, 'songs': False, 'pace': True, '7': False, 'system': False, 'date': False, 'apartment': False, 'spielberg': False, 'titanic': False, 'century': False, 'interested': False, 'building': False, 'terrific': False, 'occasionally': False, 'forget': False, 'stands': False, 'sent': False, 'twenty': False, 'student': False, 'ready': False, 'thus': False, 'green': False, 'la': False, 'pictures': True, 'write': False, 'train': False, 'aside': False, 'mysterious': False, 'touch': False, 'becoming': False, 'onto': False, 'images': False, 'hardly': False, 'producer': False, 'subplot': False, 'christopher': False, 'flaws': False, 'officer': False, 'powers': False, 'needed': False, 'waiting': False, 'thrown': False, 'worked': False, '1997': False, 'learns': False, 'loud': False, 'looked': False, 'discovers': False, 'catch': False, 'admit': False, 'carrey': False, 'adventure': True, 'lawyer': False, 'shoot': False, 'unique': False, 'contains': False, 'singer': False, 'mention': False, 'victim': False, '000': False, 'months': False, 'missing': False, 'travolta': False, 'apart': True, 'barely': False, 'image': False, 'store': False, 'states': False, 'personality': False, 'cross': False, 'cover': False, 'twists': False, 'bizarre': False, 'literally': True, 'includes': True, 'normal': False, 'introduced': False, 'manner': False, 'teacher': False, 'laughing': False, 'menace': False, 'changes': True, 'camp': True, 'danny': False, 'pull': False, 'door': False, 'sad': False, 'social': False, 'search': False, 'toy': False, 'jason': False, 'win': False, 'elizabeth': False, '1999': False, 'lame': True, 'news': True, 'answer': False, 'adult': False, 'hill': False, 'saving': False, 'adds': False, 'male': False, 'fashion': False, 'odd': False, 'storyline': True, 'innocent': False, 'returns': False, 'brown': False, 'dance': False, 'walk': False, 'recommend': False, 'gore': False, 'include': False, 'offer': True, 'gay': False, 'rate': False, 'c': False, 'henry': False, 'latter': False, 'forward': False, 'equally': False, 'concept': False, 'tried': False, 'matthew': False, 'enjoyed': False, 'nights': False, 'disturbing': False, 'decided': False, 'rush': False, 'standard': False, 'discover': False, 'land': False, 'roger': False, 'kong': False, 'directors': False, 'public': False, 'share': False, 'horrible': False, 'rules': False, 'dies': False, 'weak': False, 'chinese': False, 'deserves': False, 'gang': False, 'pop': False, 'species': False, 'patrick': False, 'accident': False, 'blade': False, 'generally': True, 'natural': False, 'edge': False, 'debut': False, 'fox': False, 'sadly': False, 'contact': False, 'ass': False, 'became': False, 'winning': False, 'teenage': False, 'lucas': False, 'russell': False, 'footage': False, 'filmed': True, 'witch': True, 'formula': False, 'detail': False, 'surprised': False, 'fellow': False, 'inspired': False, 'mouth': False, 'stage': False, 'hair': False, 'food': False, 'alan': False, 'fully': False, 'explain': False, 'charles': False, 'jeff': False, 'numerous': True, 'heroes': False, 'born': False, 'lose': False, 'culture': False, 'surprising': False, 'revenge': False, 'shakespeare': False, 'intended': False, 'gibson': False, 'weird': False, 'twist': False, 'faces': False, 'jean': False, 'wise': False, 'creates': False, 'mulan': False, 'information': False, 'rarely': False, 'machine': False, 'desperate': False, 'phone': False, '90': False, 'editing': False, 'prove': False, 'jr': False, 'younger': False, '20': False, 'pass': False, 'bright': False, 'rescue': False, 'creating': False, 'addition': False, 'captain': False, 'involves': False, 'fair': False, 'twice': False, 'presented': False, 'jennifer': False, 'apparent': False, 'drive': False, 'jay': False, 'julie': False, 'forces': False, 'emotions': False, 'fighting': False, 'loved': False, 'fresh': False, 'ed': False, 'douglas': False, 'devil': False, 'week': True, 'speak': True, 'places': False, 'appeal': False, 'blair': False, 'filmmaking': False, 'developed': False, 'fascinating': False, 'flying': False, 'meaning': False, 'terms': False, 'attack': False, 'military': False, 'opinion': False, 'mood': False, 'exception': False, 'pathetic': False, 'older': False, 'anderson': True, 'likes': False, 'nicely': False, 'genuine': False, 'wide': False, 'rare': False, 'calls': False, 'charming': False, 'toward': False, 'kiss': False, 'please': False, 'owner': False, 'track': False, 'task': False, 'confused': False, 'woo': False, 'artist': False, 'pulp': False, 'allows': False, 'buy': False, 'heads': False, 'affair': False, 'superb': False, 'boyfriend': False, 'dude': False, 'technical': False, 'lover': False, 'cause': False, 'generation': False, 'christmas': False, 'mrs': False, 'length': False, 'witty': False, 'affleck': False, 'rob': False, 'episode': False, 'pieces': False, 'talents': False, 'fbi': False, 'superior': False, 'incredible': False, 'throw': False, 'dimensional': False, 'tarantino': False, 'asked': False, 'nowhere': False, 'magic': False, 'target': False, 'journey': False, 'cash': False, 'spirit': False, 'vegas': False, 'mentioned': False, 'matt': False, 'campbell': False, 'academy': False, 'pointless': False, 'speaking': True, 'cliches': False, 'epic': False, 'avoid': False, 'loves': False, 'ice': False, 'station': False, 'appropriate': False, 'pair': False, 'shame': False, 'silent': False, 'award': False, 'reviews': False, 'cameo': False, '13': False, 'necessary': False, 'gags': False, 'kept': False, 'confusing': False, 'plane': False, 'hasn': False, 'matrix': False, 'princess': False, 'burton': False, 'legend': True, 'spends': False, 'fantasy': False, 'dennis': False, 'pick': False, 'stephen': False, 'process': False, 'unless': False, 'bottom': False, 'considered': False, 'phantom': False, 'lacks': False, 'poorly': True, 'sub': False, 'total': False, 'hits': False, 'mad': False, 'virtually': False, 'disappointing': False, 'thomas': False, 'tony': False, 'driver': False, 'creepy': False, 'marriage': False, 'arts': False, 'rocky': False, 'apes': True, 'added': True, 'accent': True, 'suppose': True, 'worthy': True, 'sitting': True, 'impression': False, 'issues': False, 'holds': False, 'suspect': False, 'crazy': False, 'keeping': False, 'names': False, 'soul': False, 'floor': False, 'pure': False, 'attitude': False, 'angry': False, 'themes': False, 'masterpiece': False, 'united': False, 'kate': False, 'respect': False, 'emotion': False, 'satire': False, 'deliver': False, 'creature': False, 'hanks': False, 'step': False, 'wonderfully': False, 'touching': False, 'design': False, 'relationships': False, 'continues': False, 'drawn': False, 'humorous': False, 'physical': False, 'criminal': False, 'edward': False, 'martial': False, 'comedic': False, 'brain': False, 'meant': False, 'arnold': False, 'pain': False, 'nobody': True, 'moral': False, 'damn': False, 'remake': False, 'wit': False, 'appreciate': False, 'wall': False, 'managed': False, 'tommy': False, 'horse': False, '[': False, 'shallow': False, 'unfunny': False, 'woods': False, 'jane': True, 'cops': False, 'fat': False, 'relief': False, 'zero': False, 'opposite': False, 'speech': False, 'stunning': False, 'anti': False, 'failed': False, ']': False, 'realized': False, 'device': False, 'color': False, 'speed': False, 'viewing': False, 'forever': False, 'limited': False, 'spice': False, 'stuck': False, 'loving': False, 'moore': False, 'therefore': True, 'parody': False, 'shooting': False, 'intriguing': False, 'sign': False, 'comedies': False, 'post': False, 'wayne': False, 'grand': False, 'kelly': False, 'plans': False, 'teenagers': False, 'theaters': False, 'industry': False, 'angels': False, 'vampires': False, 'count': False, 'notice': True, 'willing': False, 'intense': False, 'blame': False, 'ray': False, 'loses': False, 'match': False, 'slasher': False, 'reach': False, 'graphic': False, 'join': False, 'manage': False, 'falling': False, 'rent': False, 'bored': False, 'mix': False, 'finale': False, 'documentary': False, 'spawn': False, 'crap': False, 'dollars': False, 'guns': False, 'charlie': False, 'portrayal': False, 'difference': False, 'cruise': False, 'rose': False, 'honest': False, 'walking': False, 'media': False, 'dad': False, 'players': False, 'price': False, 'ok': False, 'sympathetic': False, 'gold': False, 'generated': False, 'damme': False, 'larry': False, 'era': False, 'patch': False, 'producers': True, 'field': True, 'troopers': True, 'baldwin': False, 'dangerous': False, 'feelings': False, 'rising': False, 'bland': False, 'lady': False, 'frightening': False, 'product': False, 'exist': False, 'believes': False, 'compelling': False, 'plus': False, 'johnny': False, '30': False, 'vincent': False, 'reading': False, 'imagination': False, 'destroy': False, 'spectacular': False, 'files': False, 'expectations': False, 'jedi': False, 'humanity': False, 'actions': False, 'bringing': False, 'snake': True, 'utterly': False, 'roberts': False, 'adaptation': False, 'attractive': False, 'hunt': False, 'visuals': False, 'matters': False, 'drugs': False, 'cartoon': False, 'appealing': False, 'professor': False, 'south': False, 'finding': False, 'crowd': False, 'babe': False, 'brooks': False, 'plain': False, 'scientist': False, 'ford': False, 'smile': True, 'buddy': False, 'changed': False, 'hoping': False, 'safe': False, 'hall': False, 'broken': False, 'fail': False, 'adults': False, 'trust': False, 'g': False, 'tired': False, 'mel': False, 'washington': False, 'virus': False, 'flicks': False, 'haunting': False, 'shock': False, 'visually': False, 'constant': False, 'content': False, 'cult': False, 'sick': False, 'decision': False, 'grant': False, 'yeah': False, 'protagonist': False, 'died': False, 'pg': False, 'alex': False, 'results': False, 'eight': False, 'bug': False, 'dying': False, 'current': False, 'lynch': False, 'books': True, 'starship': True, 'seagal': False, 'turning': False, 'promise': False, 'genius': False, 'jimmy': False, 'started': False, 'chosen': False, 'sexy': False, 'fate': False, 'carpenter': False, 'brian': False, 'urban': False, 'serve': False, 'engaging': False, 'boat': False, 'mob': False, 'likable': False, 'humour': False, 'goofy': False, 'japanese': False, 'decade': False, 'support': False, 'test': False, 'watched': False, 'acted': True, 'lord': True, 'build': False, 'breaks': False, 'portrayed': False, 'survive': False, 'succeeds': False, 'individual': False, 'featuring': False, 'naked': False, 'austin': False, 'frame': False, 'feet': False, 'identity': False, 'presents': False, '100': False, 'conflict': False, '6': False, 'send': False, 'guilty': False, 'hotel': False, 'winner': False, 'contrived': False, 'provided': False, 'annie': False, 'amy': False, 'badly': True, 'al': False, 'window': False, 'fit': False, 'failure': False, 'taylor': False, 'quiet': False, 'narrative': False, 'helps': False, 'extreme': False, 'bus': False, 'ms': False, 'season': False, 'catherine': False, 'expecting': False, 'nasty': False, 'goal': False, 'board': False, 'pleasure': False, 'shouldn': False, 'stuart': False, 'accept': False, 'damon': False, 'determined': False, 'professional': False, 'instance': True, 'fly': False, 'liners': False, 'gary': False, 'meeting': False, 'ups': False, 'radio': False, 'driving': False, 'fame': False, 'cares': False, 'crash': False, 'headed': False, 'substance': False, 'forgotten': False, 'grows': False, 'fantastic': False, 'supposedly': False, 'paced': False, 'beast': False, 'aspects': False, 'hidden': False, 'myers': False, 'direct': False, 'excuse': False, 'emotionally': False, 'scale': False, 'lucky': False, 'welcome': False, 'desire': False, 'f': False, 'jail': False, 'soldiers': False, 'kills': False, 'fake': False, 'routine': False, 'compared': False, 'thankfully': False, 'press': False, '1996': False, 'acts': False, 'ahead': False, 'check': False, 'ultimate': False, 'miller': False, 'available': False, 'dvd': False, 'heaven': True, 'streets': False, 'position': False, 'began': False, 'skills': False, 'remarkable': False, 'hollow': False, 'gangster': False, 'sheer': False, 'travel': False, 'nuclear': False, 'bloody': False, 'outstanding': False, 'overly': False, 'hospital': False, 'reveal': False, 'standing': False, 'claire': False, 'porn': False, 'strike': False, 'williamson': False, 'fare': False, 'folks': False, 'ghost': False, 'fault': False, 'singing': False, 'costumes': False, 'continue': False, 'ugly': False, 'thoroughly': True, 'derek': True, 'helen': False, 'placed': False, 'steal': False, 'realizes': False, '15': False, 'bar': False, 'rival': False, 'eccentric': False, 'animal': False, 'missed': False, 'inevitable': False, 'suspects': False, 'community': False, 'seconds': False, 'funniest': False, 'filmmaker': False, 'strength': False, 'ted': False, 'cheesy': True, 'animals': True, 'model': True, 'reeves': False, 'driven': False, 'lets': False, 'armageddon': False, 'center': False, 'beach': False, 'happening': False, 'hopes': False, 'flashbacks': False, 'serial': False, 'ill': False, 'explanation': False, 'anne': False, 'growing': False, 'vision': False, 'hurt': False, 'sandler': False, 'wondering': False, 'holes': False, 'joel': False, 'seat': False, 'quest': False, 'students': False, 'technology': False, 'judge': False, '9': False, 'offensive': False, 'crystal': False, 'lacking': True, 'heavily': False, 'spot': False, 'security': False, 'visit': False, 'taste': False, 'stick': False, 'beat': False, 'scorsese': False, 'villains': False, 'included': False, 'hip': False, 'surprises': False, 'super': False, 'creative': False, 'nudity': False, 'figures': False, 'slapstick': False, 'hopkins': False, 'cinematographer': False, 'games': False, 'ended': False, 'comparison': False, 'develop': False, 'critic': False, 'sea': False, 'church': False, 'struggle': False, 'capable': False, 'hunting': True, 'justice': False, 'gotten': False, 'oliver': False}\n"
          ],
          "name": "stdout"
        }
      ]
    },
    {
      "cell_type": "markdown",
      "metadata": {
        "id": "cGCJvixhq0bV"
      },
      "source": [
        "# Train a Linear Support Vector machine and Random Forest classifier using NLTK and SKlearn"
      ]
    },
    {
      "cell_type": "code",
      "metadata": {
        "id": "9inBpITowCF5",
        "colab": {
          "base_uri": "https://localhost:8080/",
          "height": 85
        },
        "outputId": "79f7b1cb-93d3-46ae-be12-aec44133402a"
      },
      "source": [
        "# train an SVM model with training set\n",
        "import nltk.classify\n",
        "from sklearn.svm import LinearSVC\n",
        "\n",
        "# wrapper sklearn classifier using nltk\n",
        "classifier = nltk.classify.SklearnClassifier(LinearSVC())\n",
        "\n",
        "# train the LinearSVC classifier using training data\n",
        "classifier.train(train_set)\n"
      ],
      "execution_count": null,
      "outputs": [
        {
          "output_type": "execute_result",
          "data": {
            "text/plain": [
              "<SklearnClassifier(LinearSVC(C=1.0, class_weight=None, dual=True, fit_intercept=True,\n",
              "          intercept_scaling=1, loss='squared_hinge', max_iter=1000,\n",
              "          multi_class='ovr', penalty='l2', random_state=None, tol=0.0001,\n",
              "          verbose=0))>"
            ]
          },
          "metadata": {
            "tags": []
          },
          "execution_count": 8
        }
      ]
    },
    {
      "cell_type": "code",
      "metadata": {
        "id": "iBr8rPCOwMZN",
        "colab": {
          "base_uri": "https://localhost:8080/",
          "height": 34
        },
        "outputId": "651bbbaf-c281-4811-f406-416f63a156d3"
      },
      "source": [
        "# apply the trained SVM model for test set\n",
        "accuracy = nltk.classify.accuracy(classifier, test_set)\n",
        "print(accuracy)"
      ],
      "execution_count": null,
      "outputs": [
        {
          "output_type": "stream",
          "text": [
            "0.83\n"
          ],
          "name": "stdout"
        }
      ]
    },
    {
      "cell_type": "code",
      "metadata": {
        "id": "5O9QTZAOw90H",
        "colab": {
          "base_uri": "https://localhost:8080/",
          "height": 153
        },
        "outputId": "dcfb4518-8180-413c-beee-c7a3e30786bc"
      },
      "source": [
        "# train an RF model with training set\n",
        "from sklearn.ensemble import RandomForestClassifier\n",
        "\n",
        "classifier = nltk.classify.SklearnClassifier(RandomForestClassifier())\n",
        "classifier.train(train_set)\n"
      ],
      "execution_count": null,
      "outputs": [
        {
          "output_type": "execute_result",
          "data": {
            "text/plain": [
              "<SklearnClassifier(RandomForestClassifier(bootstrap=True, ccp_alpha=0.0, class_weight=None,\n",
              "                       criterion='gini', max_depth=None, max_features='auto',\n",
              "                       max_leaf_nodes=None, max_samples=None,\n",
              "                       min_impurity_decrease=0.0, min_impurity_split=None,\n",
              "                       min_samples_leaf=1, min_samples_split=2,\n",
              "                       min_weight_fraction_leaf=0.0, n_estimators=100,\n",
              "                       n_jobs=None, oob_score=False, random_state=None,\n",
              "                       verbose=0, warm_start=False))>"
            ]
          },
          "metadata": {
            "tags": []
          },
          "execution_count": 10
        }
      ]
    },
    {
      "cell_type": "code",
      "metadata": {
        "id": "68gjVzl5xdOn",
        "colab": {
          "base_uri": "https://localhost:8080/",
          "height": 34
        },
        "outputId": "38c06cbf-a8d6-4867-be10-4a766fd2383e"
      },
      "source": [
        "# apply the trained RF model for test set\n",
        "accuracy = nltk.classify.accuracy(classifier, test_set)\n",
        "print(accuracy)"
      ],
      "execution_count": null,
      "outputs": [
        {
          "output_type": "stream",
          "text": [
            "0.84\n"
          ],
          "name": "stdout"
        }
      ]
    },
    {
      "cell_type": "markdown",
      "metadata": {
        "id": "7SOeeLCarGqH"
      },
      "source": [
        "# Data processing in Float format"
      ]
    },
    {
      "cell_type": "code",
      "metadata": {
        "id": "9C30ebcJ9Odc"
      },
      "source": [
        "# convert documents into tfidf vectors\n",
        "from sklearn.feature_extraction.text import TfidfVectorizer\n",
        "\n",
        "tfidf = TfidfVectorizer(stop_words='english')\n",
        "\n",
        "train_text = [' '.join(d) for (d,c) in doc_train]\n",
        "train_tfidf = tfidf.fit_transform(train_text)\n",
        "train_cats = [c for d, c in doc_train]\n",
        "\n",
        "test_text = [' '.join(d) for (d,c) in doc_test]\n",
        "test_tfidf = tfidf.transform(test_text)\n",
        "test_cats = [c for d, c in doc_test]\n"
      ],
      "execution_count": null,
      "outputs": []
    },
    {
      "cell_type": "markdown",
      "metadata": {
        "id": "LfYKeXQMt661"
      },
      "source": [
        "# Train a Random Forest Classifier using SKlearn"
      ]
    },
    {
      "cell_type": "code",
      "metadata": {
        "id": "vB71-XqwCCfq",
        "colab": {
          "base_uri": "https://localhost:8080/",
          "height": 153
        },
        "outputId": "a3be8774-748c-4ae3-c9ad-639438a7d386"
      },
      "source": [
        "# train an RF model with training set\n",
        "classifier = RandomForestClassifier()\n",
        "classifier.fit(train_tfidf, train_cats)"
      ],
      "execution_count": null,
      "outputs": [
        {
          "output_type": "execute_result",
          "data": {
            "text/plain": [
              "RandomForestClassifier(bootstrap=True, ccp_alpha=0.0, class_weight=None,\n",
              "                       criterion='gini', max_depth=None, max_features='auto',\n",
              "                       max_leaf_nodes=None, max_samples=None,\n",
              "                       min_impurity_decrease=0.0, min_impurity_split=None,\n",
              "                       min_samples_leaf=1, min_samples_split=2,\n",
              "                       min_weight_fraction_leaf=0.0, n_estimators=100,\n",
              "                       n_jobs=None, oob_score=False, random_state=None,\n",
              "                       verbose=0, warm_start=False)"
            ]
          },
          "metadata": {
            "tags": []
          },
          "execution_count": 13
        }
      ]
    },
    {
      "cell_type": "code",
      "metadata": {
        "id": "OSUX9uYmCG16",
        "colab": {
          "base_uri": "https://localhost:8080/",
          "height": 34
        },
        "outputId": "4f58f16a-a7f8-4f66-fdb6-ffe9c40dcc70"
      },
      "source": [
        "# apply the trained RF model for test set\n",
        "accuracy = classifier.score(test_tfidf, test_cats)\n",
        "print(accuracy)"
      ],
      "execution_count": null,
      "outputs": [
        {
          "output_type": "stream",
          "text": [
            "0.82\n"
          ],
          "name": "stdout"
        }
      ]
    }
  ]
}