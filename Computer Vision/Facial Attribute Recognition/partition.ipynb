{
 "cells": [
  {
   "cell_type": "code",
   "execution_count": null,
   "metadata": {},
   "outputs": [],
   "source": [
    "import os\n",
    "\n",
    "train_list = []\n",
    "val_list = []\n",
    "test_list = []\n",
    "with open(\"Anno/list_eval_partition.txt\") as f:\n",
    "    for line in f.readlines():\n",
    "        row = line.strip().split(\" \")\n",
    "        img_name = row[0]\n",
    "        label = row[-1]\n",
    "        if label == \"0\":\n",
    "            train_list.append(img_name)\n",
    "        if label == \"1\":\n",
    "            val_list.append(img_name)\n",
    "        if label == \"2\":\n",
    "            test_list.append(img_name)\n",
    "\n",
    "with open(\"Anno/list_attr_celeba.txt\", encoding=\"utf-8\") as f:\n",
    "    for line in f.readlines():\n",
    "        row = line.strip().split(\" \")\n",
    "        row = [i.replace(\"-1\", \"0\") for i in row if i != \"\"]\n",
    "        if len(row) == 41:\n",
    "            img_name = row[0]\n",
    "            if img_name in train_list:\n",
    "                with open(\"train_attr_list.txt\", \"a\", encoding=\"utf-8\") as ff:\n",
    "                    ff.writelines(\" \".join(row) + \"\\n\")\n",
    "            if img_name in val_list:\n",
    "                with open(\"val_attr_list.txt\", \"a\", encoding=\"utf-8\") as ff:\n",
    "                    ff.writelines(\" \".join(row) + \"\\n\")\n",
    "            if img_name in test_list:\n",
    "                with open(\"test_attr_list.txt\", \"a\", encoding=\"utf-8\") as ff:\n",
    "                    ff.writelines(\" \".join(row) + \"\\n\")"
   ]
  }
 ],
 "metadata": {
  "kernelspec": {
   "display_name": "Python 3",
   "language": "python",
   "name": "python3"
  },
  "language_info": {
   "codemirror_mode": {
    "name": "ipython",
    "version": 3
   },
   "file_extension": ".py",
   "mimetype": "text/x-python",
   "name": "python",
   "nbconvert_exporter": "python",
   "pygments_lexer": "ipython3",
   "version": "3.8.3"
  }
 },
 "nbformat": 4,
 "nbformat_minor": 4
}
